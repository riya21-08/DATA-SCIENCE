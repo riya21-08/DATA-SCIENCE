{
 "cells": [
  {
   "cell_type": "code",
   "execution_count": 2,
   "id": "1585a87d",
   "metadata": {},
   "outputs": [
    {
     "name": "stdout",
     "output_type": "stream",
     "text": [
      "o    10\n",
      "1    20\n",
      "2    30\n",
      "3    40\n",
      "4    50\n",
      "dtype: int64\n"
     ]
    }
   ],
   "source": [
    "import pandas as pd \n",
    "data = [10, 20, 30, 40, 50]\n",
    "my_series = pd.Series(data, index =[\"o\", \"1\", \"2\", \"3\", \"4\"])\n",
    "print(my_series)"
   ]
  },
  {
   "cell_type": "code",
   "execution_count": 3,
   "id": "51cb4054",
   "metadata": {},
   "outputs": [
    {
     "name": "stdout",
     "output_type": "stream",
     "text": [
      "x    1\n",
      "y    2\n",
      "z    3\n",
      "dtype: object\n"
     ]
    }
   ],
   "source": [
    "a = [\"1\",\"2\",\"3\"] \n",
    "my_series = pd.Series(a, index =[\"x\", \"y\", \"z\"])\n",
    "print(my_series)"
   ]
  },
  {
   "cell_type": "code",
   "execution_count": 1,
   "id": "49a7ad6e",
   "metadata": {},
   "outputs": [
    {
     "name": "stdout",
     "output_type": "stream",
     "text": [
      "  Product Id         Product Name Product Price\n",
      "0       1001                Maggi        Rs.200\n",
      "1       1002       Ketchup Bottle        Rs.150\n",
      "2       1003  Aashirvad Atta(2kg)        Rs.220\n",
      "3       1004      Davidoff Coffee        Rs.519\n",
      "4       1005    Madhur Sugar(2kg)        Rs.210\n"
     ]
    }
   ],
   "source": [
    "import pandas as pd\n",
    "data = [[\"1001\", \"Maggi\", \"Rs.200\"],\n",
    "        [\"1002\", \"Ketchup Bottle\", \"Rs.150\"],\n",
    "        [\"1003\", \"Aashirvad Atta(2kg)\", \"Rs.220\"],\n",
    "        [\"1004\", \"Davidoff Coffee\", \"Rs.519\"],\n",
    "        [\"1005\", \"Madhur Sugar(2kg)\", \"Rs.210\"]] \n",
    "df = pd.DataFrame(data, columns=[\"Product Id\", \"Product Name\", \"Product Price\"])\n",
    "print(df)"
   ]
  },
  {
   "cell_type": "code",
   "execution_count": 57,
   "id": "2035c349",
   "metadata": {},
   "outputs": [
    {
     "name": "stdout",
     "output_type": "stream",
     "text": [
      "  Product Id\n",
      "0       1001\n",
      "1       1002\n",
      "2       1003\n",
      "3       1004\n",
      "4       1005\n"
     ]
    }
   ],
   "source": [
    "a = [\"1001\", \"1002\", \"1003\", \"1004\", \"1005\"]\n",
    "df = pd.DataFrame(a, columns=[\"Product Id\"])\n",
    "print(df)"
   ]
  },
  {
   "cell_type": "code",
   "execution_count": 58,
   "id": "20a68062",
   "metadata": {},
   "outputs": [
    {
     "name": "stdout",
     "output_type": "stream",
     "text": [
      "          Product Name\n",
      "0                Maggi\n",
      "1        Ketchu Bottle\n",
      "2  Aashirvad Atta(2kg)\n",
      "3      Davidoff Coffee\n",
      "4    Madhur Sugar(2kg)\n"
     ]
    }
   ],
   "source": [
    "a = [\"Maggi\", \"Ketchu Bottle\", \"Aashirvad Atta(2kg)\", \"Davidoff Coffee\", \"Madhur Sugar(2kg)\"]\n",
    "df = pd.DataFrame(a, columns=[\"Product Name\"])\n",
    "print(df)"
   ]
  },
  {
   "cell_type": "code",
   "execution_count": 59,
   "id": "57b5e09c",
   "metadata": {},
   "outputs": [
    {
     "name": "stdout",
     "output_type": "stream",
     "text": [
      "  Product Price\n",
      "0        Rs.200\n",
      "1        Rs.150\n",
      "2        Rs.220\n",
      "3        Rs.519\n",
      "4        Rs.210\n"
     ]
    }
   ],
   "source": [
    "a = [\"Rs.200\", \"Rs.150\", \"Rs.220\", \"Rs.519\", \"Rs.210\"]\n",
    "df = pd.DataFrame(a, columns=[\"Product Price\"])\n",
    "print(df)"
   ]
  },
  {
   "cell_type": "code",
   "execution_count": 60,
   "id": "f0124ef1",
   "metadata": {},
   "outputs": [],
   "source": [
    "import pandas as pd"
   ]
  },
  {
   "cell_type": "code",
   "execution_count": 62,
   "id": "3f4b7deb",
   "metadata": {},
   "outputs": [
    {
     "name": "stdout",
     "output_type": "stream",
     "text": [
      "Product Id         1001\n",
      "Product Name      Maggi\n",
      "Product Price    Rs.200\n",
      "Name: 0, dtype: object\n"
     ]
    }
   ],
   "source": [
    "print(df.iloc[0]) "
   ]
  },
  {
   "cell_type": "code",
   "execution_count": 63,
   "id": "77b7b955",
   "metadata": {},
   "outputs": [
    {
     "name": "stdout",
     "output_type": "stream",
     "text": [
      "Product Id                1002\n",
      "Product Name     Ketchu Bottle\n",
      "Product Price           Rs.150\n",
      "Name: 1, dtype: object\n"
     ]
    }
   ],
   "source": [
    "print(df.iloc[1])"
   ]
  },
  {
   "cell_type": "code",
   "execution_count": 64,
   "id": "c2d528d5",
   "metadata": {},
   "outputs": [
    {
     "name": "stdout",
     "output_type": "stream",
     "text": [
      "Product Id                      1003\n",
      "Product Name     Aashirvad Atta(2kg)\n",
      "Product Price                 Rs.220\n",
      "Name: 2, dtype: object\n"
     ]
    }
   ],
   "source": [
    "print(df.iloc[2])"
   ]
  },
  {
   "cell_type": "code",
   "execution_count": 65,
   "id": "f27238b8",
   "metadata": {},
   "outputs": [
    {
     "name": "stdout",
     "output_type": "stream",
     "text": [
      "Product Id                  1004\n",
      "Product Name     Davidoff Coffee\n",
      "Product Price             Rs.519\n",
      "Name: 3, dtype: object\n"
     ]
    }
   ],
   "source": [
    "print(df.iloc[3])"
   ]
  },
  {
   "cell_type": "code",
   "execution_count": 66,
   "id": "11e5e728",
   "metadata": {},
   "outputs": [
    {
     "name": "stdout",
     "output_type": "stream",
     "text": [
      "Product Id                    1005\n",
      "Product Name     Madhur Sugar(2kg)\n",
      "Product Price               Rs.210\n",
      "Name: 4, dtype: object\n"
     ]
    }
   ],
   "source": [
    "print(df.iloc[4])"
   ]
  },
  {
   "cell_type": "code",
   "execution_count": 69,
   "id": "a4f91987",
   "metadata": {},
   "outputs": [
    {
     "name": "stdout",
     "output_type": "stream",
     "text": [
      "  Product Id       Product Name Product Price\n",
      "3       1004    Davidoff Coffee        Rs.519\n",
      "4       1005  Madhur Sugar(2kg)        Rs.210\n"
     ]
    }
   ],
   "source": [
    "print(df.loc[3:])"
   ]
  },
  {
   "cell_type": "code",
   "execution_count": 73,
   "id": "082a0226",
   "metadata": {},
   "outputs": [
    {
     "name": "stdout",
     "output_type": "stream",
     "text": [
      "  Product Id         Product Name Product Price\n",
      "2       1003  Aashirvad Atta(2kg)        Rs.220\n"
     ]
    }
   ],
   "source": [
    "print(df.iloc[2:3])"
   ]
  },
  {
   "cell_type": "code",
   "execution_count": 76,
   "id": "750a9d45",
   "metadata": {},
   "outputs": [
    {
     "name": "stdout",
     "output_type": "stream",
     "text": [
      "  Product Id         Product Name\n",
      "2       1003  Aashirvad Atta(2kg)\n",
      "3       1004      Davidoff Coffee\n",
      "4       1005    Madhur Sugar(2kg)\n"
     ]
    }
   ],
   "source": [
    "print(df.iloc[2:5,0:2])"
   ]
  },
  {
   "cell_type": "code",
   "execution_count": 97,
   "id": "a70ebe6c",
   "metadata": {},
   "outputs": [
    {
     "name": "stdout",
     "output_type": "stream",
     "text": [
      "1    Rs.150\n",
      "2    Rs.220\n",
      "3    Rs.519\n",
      "Name: Product Price, dtype: object\n"
     ]
    }
   ],
   "source": [
    "print(df.iloc[1:4,-1])"
   ]
  },
  {
   "cell_type": "code",
   "execution_count": 3,
   "id": "0be8d6e8",
   "metadata": {},
   "outputs": [
    {
     "name": "stdout",
     "output_type": "stream",
     "text": [
      "   Name RollNo. Python Data Science DBMS\n",
      "0  Riya       1     66           62   68\n",
      "1  Siya       2     39           61   70\n",
      "2  Kiya       3     37           60   69\n",
      "3  Jiya       4     70           76   77\n"
     ]
    }
   ],
   "source": [
    "import pandas as pd\n",
    "data = [['Riya', '1', '66', '62', '68'],\n",
    "        ['Siya', '2', '39', '61', '70'],\n",
    "        ['Kiya', '3', '37', '60', '69'],\n",
    "        ['Jiya', '4', '70', '76', '77']] \n",
    "df = pd.DataFrame(data, columns=['Name', 'RollNo.', 'Python','Data Science', 'DBMS'])   \n",
    "print(df)"
   ]
  },
  {
   "cell_type": "code",
   "execution_count": 61,
   "id": "cb23b285",
   "metadata": {},
   "outputs": [
    {
     "data": {
      "text/html": [
       "<div>\n",
       "<style scoped>\n",
       "    .dataframe tbody tr th:only-of-type {\n",
       "        vertical-align: middle;\n",
       "    }\n",
       "\n",
       "    .dataframe tbody tr th {\n",
       "        vertical-align: top;\n",
       "    }\n",
       "\n",
       "    .dataframe thead th {\n",
       "        text-align: right;\n",
       "    }\n",
       "</style>\n",
       "<table border=\"1\" class=\"dataframe\">\n",
       "  <thead>\n",
       "    <tr style=\"text-align: right;\">\n",
       "      <th></th>\n",
       "      <th>Python</th>\n",
       "      <th>Data Science</th>\n",
       "      <th>DBMS</th>\n",
       "    </tr>\n",
       "  </thead>\n",
       "  <tbody>\n",
       "    <tr>\n",
       "      <th>Riya</th>\n",
       "      <td>40</td>\n",
       "      <td>46</td>\n",
       "      <td>56</td>\n",
       "    </tr>\n",
       "    <tr>\n",
       "      <th>Siya</th>\n",
       "      <td>95</td>\n",
       "      <td>40</td>\n",
       "      <td>59</td>\n",
       "    </tr>\n",
       "    <tr>\n",
       "      <th>kiya</th>\n",
       "      <td>96</td>\n",
       "      <td>42</td>\n",
       "      <td>66</td>\n",
       "    </tr>\n",
       "    <tr>\n",
       "      <th>Jiya</th>\n",
       "      <td>78</td>\n",
       "      <td>55</td>\n",
       "      <td>30</td>\n",
       "    </tr>\n",
       "  </tbody>\n",
       "</table>\n",
       "</div>"
      ],
      "text/plain": [
       "      Python  Data Science  DBMS\n",
       "Riya      40            46    56\n",
       "Siya      95            40    59\n",
       "kiya      96            42    66\n",
       "Jiya      78            55    30"
      ]
     },
     "execution_count": 61,
     "metadata": {},
     "output_type": "execute_result"
    }
   ],
   "source": [
    "import numpy as np\n",
    "import pandas as pd\n",
    "df=pd.DataFrame(np.random.randint(0,100,(4,3)),index=[\"Riya\",\"Siya\",\"kiya\",\"Jiya\"],columns=[\"Python\",\"Data Science\", \"DBMS\"])\n",
    "df  "
   ]
  },
  {
   "cell_type": "code",
   "execution_count": 51,
   "id": "de86be3c",
   "metadata": {},
   "outputs": [],
   "source": [
    "df.loc[df['Python']<40,'Python']=41"
   ]
  },
  {
   "cell_type": "code",
   "execution_count": 52,
   "id": "8f3bb96b",
   "metadata": {},
   "outputs": [
    {
     "data": {
      "text/html": [
       "<div>\n",
       "<style scoped>\n",
       "    .dataframe tbody tr th:only-of-type {\n",
       "        vertical-align: middle;\n",
       "    }\n",
       "\n",
       "    .dataframe tbody tr th {\n",
       "        vertical-align: top;\n",
       "    }\n",
       "\n",
       "    .dataframe thead th {\n",
       "        text-align: right;\n",
       "    }\n",
       "</style>\n",
       "<table border=\"1\" class=\"dataframe\">\n",
       "  <thead>\n",
       "    <tr style=\"text-align: right;\">\n",
       "      <th></th>\n",
       "      <th>Python</th>\n",
       "      <th>Data Science</th>\n",
       "      <th>DBMS</th>\n",
       "    </tr>\n",
       "  </thead>\n",
       "  <tbody>\n",
       "    <tr>\n",
       "      <th>Riya</th>\n",
       "      <td>93</td>\n",
       "      <td>75</td>\n",
       "      <td>70</td>\n",
       "    </tr>\n",
       "    <tr>\n",
       "      <th>Siya</th>\n",
       "      <td>56</td>\n",
       "      <td>60</td>\n",
       "      <td>83</td>\n",
       "    </tr>\n",
       "    <tr>\n",
       "      <th>kiya</th>\n",
       "      <td>52</td>\n",
       "      <td>24</td>\n",
       "      <td>68</td>\n",
       "    </tr>\n",
       "    <tr>\n",
       "      <th>Jiya</th>\n",
       "      <td>44</td>\n",
       "      <td>3</td>\n",
       "      <td>40</td>\n",
       "    </tr>\n",
       "  </tbody>\n",
       "</table>\n",
       "</div>"
      ],
      "text/plain": [
       "      Python  Data Science  DBMS\n",
       "Riya      93            75    70\n",
       "Siya      56            60    83\n",
       "kiya      52            24    68\n",
       "Jiya      44             3    40"
      ]
     },
     "execution_count": 52,
     "metadata": {},
     "output_type": "execute_result"
    }
   ],
   "source": [
    "df"
   ]
  },
  {
   "cell_type": "code",
   "execution_count": 55,
   "id": "08c13231",
   "metadata": {},
   "outputs": [
    {
     "data": {
      "text/html": [
       "<div>\n",
       "<style scoped>\n",
       "    .dataframe tbody tr th:only-of-type {\n",
       "        vertical-align: middle;\n",
       "    }\n",
       "\n",
       "    .dataframe tbody tr th {\n",
       "        vertical-align: top;\n",
       "    }\n",
       "\n",
       "    .dataframe thead th {\n",
       "        text-align: right;\n",
       "    }\n",
       "</style>\n",
       "<table border=\"1\" class=\"dataframe\">\n",
       "  <thead>\n",
       "    <tr style=\"text-align: right;\">\n",
       "      <th></th>\n",
       "      <th>Python</th>\n",
       "      <th>Data Science</th>\n",
       "      <th>DBMS</th>\n",
       "    </tr>\n",
       "  </thead>\n",
       "  <tbody>\n",
       "    <tr>\n",
       "      <th>Riya</th>\n",
       "      <td>95</td>\n",
       "      <td>77</td>\n",
       "      <td>72</td>\n",
       "    </tr>\n",
       "    <tr>\n",
       "      <th>Siya</th>\n",
       "      <td>58</td>\n",
       "      <td>62</td>\n",
       "      <td>85</td>\n",
       "    </tr>\n",
       "    <tr>\n",
       "      <th>kiya</th>\n",
       "      <td>54</td>\n",
       "      <td>26</td>\n",
       "      <td>70</td>\n",
       "    </tr>\n",
       "    <tr>\n",
       "      <th>Jiya</th>\n",
       "      <td>46</td>\n",
       "      <td>5</td>\n",
       "      <td>42</td>\n",
       "    </tr>\n",
       "  </tbody>\n",
       "</table>\n",
       "</div>"
      ],
      "text/plain": [
       "      Python  Data Science  DBMS\n",
       "Riya      95            77    72\n",
       "Siya      58            62    85\n",
       "kiya      54            26    70\n",
       "Jiya      46             5    42"
      ]
     },
     "execution_count": 55,
     "metadata": {},
     "output_type": "execute_result"
    }
   ],
   "source": [
    "df+2"
   ]
  },
  {
   "cell_type": "code",
   "execution_count": 56,
   "id": "aec34044",
   "metadata": {},
   "outputs": [
    {
     "data": {
      "text/html": [
       "<div>\n",
       "<style scoped>\n",
       "    .dataframe tbody tr th:only-of-type {\n",
       "        vertical-align: middle;\n",
       "    }\n",
       "\n",
       "    .dataframe tbody tr th {\n",
       "        vertical-align: top;\n",
       "    }\n",
       "\n",
       "    .dataframe thead th {\n",
       "        text-align: right;\n",
       "    }\n",
       "</style>\n",
       "<table border=\"1\" class=\"dataframe\">\n",
       "  <thead>\n",
       "    <tr style=\"text-align: right;\">\n",
       "      <th></th>\n",
       "      <th>Python</th>\n",
       "      <th>Data Science</th>\n",
       "      <th>DBMS</th>\n",
       "    </tr>\n",
       "  </thead>\n",
       "  <tbody>\n",
       "    <tr>\n",
       "      <th>Riya</th>\n",
       "      <td>93</td>\n",
       "      <td>75</td>\n",
       "      <td>70</td>\n",
       "    </tr>\n",
       "  </tbody>\n",
       "</table>\n",
       "</div>"
      ],
      "text/plain": [
       "      Python  Data Science  DBMS\n",
       "Riya      93            75    70"
      ]
     },
     "execution_count": 56,
     "metadata": {},
     "output_type": "execute_result"
    }
   ],
   "source": [
    "df[(df['Python']>50)&(df['Data Science']>60)] "
   ]
  },
  {
   "cell_type": "code",
   "execution_count": 72,
   "id": "cabcfd70",
   "metadata": {},
   "outputs": [
    {
     "data": {
      "text/plain": [
       "['Siya']"
      ]
     },
     "execution_count": 72,
     "metadata": {},
     "output_type": "execute_result"
    }
   ],
   "source": [
    "# List of student names\n",
    "student_names = [\"Riya\", \"Siya\", \"Kiya\", \"Jiya\"]\n",
    "\n",
    "# Filter names starting with 'S'\n",
    "filtered_names = [name for name in student_names if name.startswith('S')]\n",
    "\n",
    "# Display filtered names\n",
    "filtered_names                   question 11"
   ]
  },
  {
   "cell_type": "code",
   "execution_count": 77,
   "id": "8601e4f2",
   "metadata": {},
   "outputs": [
    {
     "data": {
      "text/plain": [
       "['Riya', 'Siya', 'Kiya', 'Jiya']"
      ]
     },
     "execution_count": 77,
     "metadata": {},
     "output_type": "execute_result"
    }
   ],
   "source": [
    "# List of student names\n",
    "student_names = [\"Riya\", \"Siya\", \"Kiya\", \"Jiya\"]\n",
    "\n",
    "# Filter names starting with 'S'\n",
    "filtered_names = [name for name in student_names if name.endswith('a')]\n",
    "\n",
    "# Display filtered names\n",
    "filtered_names                  question 12"
   ]
  },
  {
   "cell_type": "code",
   "execution_count": 85,
   "id": "56906c76",
   "metadata": {},
   "outputs": [
    {
     "name": "stdout",
     "output_type": "stream",
     "text": [
      "Riya: Total Marks = 238, Percentage = 79.33333333333333%\n",
      "Siya: Total Marks = 199, Percentage = 66.33333333333333%\n",
      "Kiya: Total Marks = 144, Percentage = 48.0%\n",
      "Jiya: Total Marks = 87, Percentage = 28.999999999999996%\n"
     ]
    }
   ],
   "source": [
    "# List of student records\n",
    "student_records = [\n",
    "    {\"name\": \"Riya\", \"marks\": [93, 75, 70]},\n",
    "    {\"name\": \"Siya\", \"marks\": [56, 60, 83]},\n",
    "    {\"name\": \"Kiya\", \"marks\": [52, 24, 68]},\n",
    "    {\"name\": \"Jiya\", \"marks\": [44, 3, 40]}              question 13\n",
    "]\n",
    "\n",
    "# Calculate total and percentage for each student\n",
    "for record in student_records:\n",
    "    total_marks = sum(record[\"marks\"])\n",
    "    percentage = (total_marks / (len(record[\"marks\"]) * 100)) * 100\n",
    "    print(f\"{record['name']}: Total Marks = {total_marks}, Percentage = {percentage}%\")"
   ]
  },
  {
   "cell_type": "code",
   "execution_count": 86,
   "id": "f0bad3a8",
   "metadata": {},
   "outputs": [
    {
     "name": "stdout",
     "output_type": "stream",
     "text": [
      "Riya: PASS\n",
      "Siya: PASS\n",
      "Kiya: PASS\n",
      "Jiya: FAIL\n"
     ]
    }
   ],
   "source": [
    "# List of student records\n",
    "student_records = [\n",
    "    {\"name\": \"Riya\", \"marks\": [93, 75, 70]},\n",
    "    {\"name\": \"Siya\", \"marks\": [56, 60, 83]},\n",
    "    {\"name\": \"Kiya\", \"marks\": [52, 24, 68]},\n",
    "    {\"name\": \"Jiya\", \"marks\": [44, 3, 40]}            question 14\n",
    "]\n",
    "\n",
    "# Calculate status (PASS / FAIL) for each student\n",
    "for record in student_records:\n",
    "    total_marks = sum(record[\"marks\"])\n",
    "    percentage = (total_marks / (len(record[\"marks\"]) * 100)) * 100\n",
    "    status = \"PASS\" if percentage >= 40 else \"FAIL\"\n",
    "    print(f\"{record['name']}: {status}\")"
   ]
  },
  {
   "cell_type": "code",
   "execution_count": 87,
   "id": "1f12ede5",
   "metadata": {},
   "outputs": [
    {
     "name": "stdout",
     "output_type": "stream",
     "text": [
      "Riya: Grade = C\n",
      "Siya: Grade = D\n",
      "Kiya: Grade = F\n",
      "Jiya: Grade = F\n"
     ]
    }
   ],
   "source": [
    "# List of student records\n",
    "student_records = [\n",
    "    {\"name\": \"Riya\", \"marks\": [93, 75, 70]},\n",
    "    {\"name\": \"Siya\", \"marks\": [56, 60, 83]},\n",
    "    {\"name\": \"Kiya\", \"marks\": [52, 24, 68]},\n",
    "    {\"name\": \"Jiya\", \"marks\": [44, 3, 40]}\n",
    "]\n",
    "\n",
    "# Calculate grade for each student based on percentage\n",
    "for record in student_records:\n",
    "    total_marks = sum(record[\"marks\"])\n",
    "    percentage = (total_marks / (len(record[\"marks\"]) * 100)) * 100\n",
    "    if percentage >= 90:\n",
    "        grade = 'A'\n",
    "    elif percentage >= 80:\n",
    "        grade = 'B'                                   question 15\n",
    "    elif percentage >= 70:\n",
    "        grade = 'C'\n",
    "    elif percentage >= 60:\n",
    "        grade = 'D'\n",
    "    elif percentage >= 50:\n",
    "        grade = 'E'\n",
    "    else:\n",
    "        grade = 'F'\n",
    "    print(f\"{record['name']}: Grade = {grade}\")"
   ]
  },
  {
   "cell_type": "code",
   "execution_count": 91,
   "id": "ee274bf5",
   "metadata": {},
   "outputs": [
    {
     "name": "stdout",
     "output_type": "stream",
     "text": [
      "Summary Statistics:\n",
      "{'Total': Series([], dtype: float64), 'Maximum': Series([], dtype: float64), 'Minimum': Series([], dtype: float64), 'Standard Deviation': Series([], dtype: float64)}\n"
     ]
    }
   ],
   "source": [
    "import pandas as pd\n",
    "import numpy as np\n",
    "\n",
    "df = pd.DataFrame(student_records)\n",
    "\n",
    "numeric_columns = df.select_dtypes(include=[np.number])\n",
    "summary_stats = {\n",
    "    'Total': numeric_columns.sum(),\n",
    "    'Maximum': numeric_columns.max(),\n",
    "    'Minimum': numeric_columns.min(),\n",
    "    'Standard Deviation': numeric_columns.std()\n",
    "}\n",
    "                                                                  question 16\n",
    "print(\"Summary Statistics:\")\n",
    "print(summary_stats)\n",
    "\n",
    "df.to_excel(\"student_records.xlsx\", index=False)\n",
    "df.to_json(\"student_records.json\", orient=\"records\")\n",
    "df.to_html(\"student_records.html\", index=False)"
   ]
  },
  {
   "cell_type": "code",
   "execution_count": 51,
   "id": "419cc1e3",
   "metadata": {},
   "outputs": [
    {
     "name": "stdout",
     "output_type": "stream",
     "text": [
      "Metadata for each column:\n",
      "<class 'pandas.core.frame.DataFrame'>\n",
      "Index: 4 entries, Riya to Jiya\n",
      "Data columns (total 3 columns):\n",
      " #   Column        Non-Null Count  Dtype\n",
      "---  ------        --------------  -----\n",
      " 0   Python        4 non-null      int32\n",
      " 1   Data Science  4 non-null      int32\n",
      " 2   DBMS          4 non-null      int32\n",
      "dtypes: int32(3)\n",
      "memory usage: 80.0+ bytes\n",
      "None\n",
      "Detailed metadata for numeric columns:\n",
      "          Python  Data Science       DBMS\n",
      "count   4.000000      4.000000   4.000000\n",
      "mean   15.500000     64.250000  69.500000\n",
      "std    10.472185     13.598407  39.770173\n",
      "min     6.000000     49.000000  11.000000\n",
      "25%     6.750000     56.500000  62.750000\n",
      "50%    15.000000     63.500000  84.000000\n",
      "75%    23.750000     71.250000  90.750000\n",
      "max    26.000000     81.000000  99.000000\n"
     ]
    }
   ],
   "source": [
    "print(\"Metadata for each column:\")\n",
    "print(df.info())\n",
    "                                                      question 17                                 \n",
    "print(\"Detailed metadata for numeric columns:\")\n",
    "print(df.describe())"
   ]
  },
  {
   "cell_type": "code",
   "execution_count": 93,
   "id": "80b9b073",
   "metadata": {},
   "outputs": [
    {
     "name": "stdout",
     "output_type": "stream",
     "text": [
      "[{'name': 'Riya', 'marks': [93, 75, 70]}, {'name': 'Siya', 'marks': [56, 60, 83]}, {'name': 'Kiya', 'marks': [52, 24, 68]}, {'name': 'Jiya', 'marks': [44, 3, 40]}]\n"
     ]
    }
   ],
   "source": [
    "data_dict = df.to_dict(orient='records')\n",
    "                                                          question 18                               \n",
    "print(data_dict)"
   ]
  },
  {
   "cell_type": "code",
   "execution_count": 13,
   "id": "ec00c8e5",
   "metadata": {},
   "outputs": [
    {
     "ename": "SyntaxError",
     "evalue": "invalid syntax (3354107590.py, line 2)",
     "output_type": "error",
     "traceback": [
      "\u001b[1;36m  Cell \u001b[1;32mIn[13], line 2\u001b[1;36m\u001b[0m\n\u001b[1;33m    for record in data dict:\u001b[0m\n\u001b[1;37m                       ^\u001b[0m\n\u001b[1;31mSyntaxError\u001b[0m\u001b[1;31m:\u001b[0m invalid syntax\n"
     ]
    }
   ],
   "source": [
    "# Add 500 to each element in the 'Product Price' column\n",
    "for record in data dict:\n",
    "    record['ProductPrice'] += 500\n",
    "\n",
    "# Create a new DataFrame from the updated dictionary\n",
    "new_df = pd.DataFrame(\"data dict\")\n",
    "                                                       question 19\n",
    "# Display the new DataFrame  \n",
    "print(new_df)                                               "
   ]
  },
  {
   "cell_type": "code",
   "execution_count": 22,
   "id": "5a21e202",
   "metadata": {},
   "outputs": [],
   "source": [
    "productId = [101, 102, 103, 104, 105]\n",
    "productName = ['Maggi', 'Ketchup Bottle', 'Aashirvad Atta(2kg)', 'Davidoff Coffee', 'Madhur Sugar(2kg)']\n",
    "productPrice = [\"Rs.200\", \"Rs.150\", \"Rs.220\", \"Rs.519\", \"Rs.210\"]\n",
    "\n",
    "data = {'ProductID': productId, 'ProductName': productName, 'ProductPrice': productPrice}\n",
    "df = pd.DataFrame(data)                             question 1"
   ]
  },
  {
   "cell_type": "code",
   "execution_count": 23,
   "id": "0dbb2bcc",
   "metadata": {},
   "outputs": [
    {
     "data": {
      "text/html": [
       "<div>\n",
       "<style scoped>\n",
       "    .dataframe tbody tr th:only-of-type {\n",
       "        vertical-align: middle;\n",
       "    }\n",
       "\n",
       "    .dataframe tbody tr th {\n",
       "        vertical-align: top;\n",
       "    }\n",
       "\n",
       "    .dataframe thead th {\n",
       "        text-align: right;\n",
       "    }\n",
       "</style>\n",
       "<table border=\"1\" class=\"dataframe\">\n",
       "  <thead>\n",
       "    <tr style=\"text-align: right;\">\n",
       "      <th></th>\n",
       "      <th>ProductID</th>\n",
       "      <th>ProductName</th>\n",
       "      <th>ProductPrice</th>\n",
       "    </tr>\n",
       "  </thead>\n",
       "  <tbody>\n",
       "    <tr>\n",
       "      <th>0</th>\n",
       "      <td>101</td>\n",
       "      <td>Maggi</td>\n",
       "      <td>Rs.200</td>\n",
       "    </tr>\n",
       "    <tr>\n",
       "      <th>1</th>\n",
       "      <td>102</td>\n",
       "      <td>Ketchup Bottle</td>\n",
       "      <td>Rs.150</td>\n",
       "    </tr>\n",
       "    <tr>\n",
       "      <th>2</th>\n",
       "      <td>103</td>\n",
       "      <td>Aashirvad Atta(2kg)</td>\n",
       "      <td>Rs.220</td>\n",
       "    </tr>\n",
       "    <tr>\n",
       "      <th>3</th>\n",
       "      <td>104</td>\n",
       "      <td>Davidoff Coffee</td>\n",
       "      <td>Rs.519</td>\n",
       "    </tr>\n",
       "    <tr>\n",
       "      <th>4</th>\n",
       "      <td>105</td>\n",
       "      <td>Madhur Sugar(2kg})</td>\n",
       "      <td>Rs.210</td>\n",
       "    </tr>\n",
       "  </tbody>\n",
       "</table>\n",
       "</div>"
      ],
      "text/plain": [
       "   ProductID          ProductName ProductPrice\n",
       "0        101                Maggi       Rs.200\n",
       "1        102       Ketchup Bottle       Rs.150\n",
       "2        103  Aashirvad Atta(2kg)       Rs.220\n",
       "3        104      Davidoff Coffee       Rs.519\n",
       "4        105   Madhur Sugar(2kg})       Rs.210"
      ]
     },
     "execution_count": 23,
     "metadata": {},
     "output_type": "execute_result"
    }
   ],
   "source": [
    "df                         question 1"
   ]
  },
  {
   "cell_type": "code",
   "execution_count": 25,
   "id": "ae8c19cb",
   "metadata": {},
   "outputs": [
    {
     "name": "stdout",
     "output_type": "stream",
     "text": [
      "Extracted Product ID Column:\n",
      "0    101\n",
      "1    102\n",
      "2    103\n",
      "3    104\n",
      "4    105\n",
      "Name: ProductID, dtype: int64\n",
      "\n",
      "Extracted Product Name Column:\n",
      "0                  Maggi\n",
      "1         Ketchup Bottle\n",
      "2    Aashirvad Atta(2kg)\n",
      "3        Davidoff Coffee\n",
      "4     Madhur Sugar(2kg})\n",
      "Name: ProductName, dtype: object\n",
      "\n",
      "Extracted Product Price Column:\n",
      "0    Rs.200\n",
      "1    Rs.150\n",
      "2    Rs.220\n",
      "3    Rs.519\n",
      "4    Rs.210\n",
      "Name: ProductPrice, dtype: object\n"
     ]
    }
   ],
   "source": [
    "print(\"Extracted Product ID Column:\")\n",
    "print(df['ProductID'])\n",
    "print(\"\\nExtracted Product Name Column:\")\n",
    "print(df['ProductName'])\n",
    "print(\"\\nExtracted Product Price Column:\")\n",
    "print(df['ProductPrice'])                           question 2"
   ]
  },
  {
   "cell_type": "code",
   "execution_count": 26,
   "id": "84669686",
   "metadata": {},
   "outputs": [
    {
     "name": "stdout",
     "output_type": "stream",
     "text": [
      "\n",
      "Each row separately using iloc:\n",
      "ProductID          101\n",
      "ProductName      Maggi\n",
      "ProductPrice    Rs.200\n",
      "Name: 0, dtype: object\n",
      "ProductID                  102\n",
      "ProductName     Ketchup Bottle\n",
      "ProductPrice            Rs.150\n",
      "Name: 1, dtype: object\n",
      "ProductID                       103\n",
      "ProductName     Aashirvad Atta(2kg)\n",
      "ProductPrice                 Rs.220\n",
      "Name: 2, dtype: object\n",
      "ProductID                   104\n",
      "ProductName     Davidoff Coffee\n",
      "ProductPrice             Rs.519\n",
      "Name: 3, dtype: object\n",
      "ProductID                      105\n",
      "ProductName     Madhur Sugar(2kg})\n",
      "ProductPrice                Rs.210\n",
      "Name: 4, dtype: object\n"
     ]
    }
   ],
   "source": [
    "print(\"\\nEach row separately using iloc:\")\n",
    "for i in range(len(df)):\n",
    "    print(df.iloc[i])                        question 3"
   ]
  },
  {
   "cell_type": "code",
   "execution_count": 27,
   "id": "40f953de",
   "metadata": {},
   "outputs": [
    {
     "name": "stdout",
     "output_type": "stream",
     "text": [
      "\n",
      "Product Name from 3rd row using loc:\n",
      "Aashirvad Atta(2kg)\n"
     ]
    }
   ],
   "source": [
    "print(\"\\nProduct Name from 3rd row using loc:\")\n",
    "print(df.loc[2, 'ProductName'])                  question 4"
   ]
  },
  {
   "cell_type": "code",
   "execution_count": 28,
   "id": "14b2f662",
   "metadata": {},
   "outputs": [
    {
     "name": "stdout",
     "output_type": "stream",
     "text": [
      "\n",
      "Price located in 2nd row using iloc:\n",
      "Rs.150\n"
     ]
    }
   ],
   "source": [
    "print(\"\\nPrice located in 2nd row using iloc:\")\n",
    "print(df.iloc[1]['ProductPrice'])                  question 5"
   ]
  },
  {
   "cell_type": "code",
   "execution_count": 29,
   "id": "dcc3c6c0",
   "metadata": {},
   "outputs": [
    {
     "name": "stdout",
     "output_type": "stream",
     "text": [
      "\n",
      "2nd to 4th row data excluding price:\n",
      "   ProductID          ProductName\n",
      "1        102       Ketchup Bottle\n",
      "2        103  Aashirvad Atta(2kg)\n",
      "3        104      Davidoff Coffee\n"
     ]
    }
   ],
   "source": [
    "print(\"\\n2nd to 4th row data excluding price:\")\n",
    "print(df.iloc[1:4, :-1])                       question 6"
   ]
  },
  {
   "cell_type": "code",
   "execution_count": 30,
   "id": "22ee4843",
   "metadata": {},
   "outputs": [
    {
     "name": "stdout",
     "output_type": "stream",
     "text": [
      "\n",
      "1 to 3rd row price data only:\n",
      "0    Rs.200\n",
      "1    Rs.150\n",
      "2    Rs.220\n",
      "Name: ProductPrice, dtype: object\n"
     ]
    }
   ],
   "source": [
    "print(\"\\n1 to 3rd row price data only:\")\n",
    "print(df.iloc[:3, 2])                  question 7"
   ]
  },
  {
   "cell_type": "code",
   "execution_count": null,
   "id": "c2b2303f",
   "metadata": {},
   "outputs": [
    {
     "data": {
      "text/html": [
       "<div>\n",
       "<style scoped>\n",
       "    .dataframe tbody tr th:only-of-type {\n",
       "        vertical-align: middle;\n",
       "    }\n",
       "\n",
       "    .dataframe tbody tr th {\n",
       "        vertical-align: top;\n",
       "    }\n",
       "\n",
       "    .dataframe thead th {\n",
       "        text-align: right;\n",
       "    }\n",
       "</style>\n",
       "<table border=\"1\" class=\"dataframe\">\n",
       "  <thead>\n",
       "    <tr style=\"text-align: right;\">\n",
       "      <th></th>\n",
       "      <th>Python</th>\n",
       "      <th>Data Science</th>\n",
       "      <th>DBMS</th>\n",
       "    </tr>\n",
       "  </thead>\n",
       "  <tbody>\n",
       "    <tr>\n",
       "      <th>Riya</th>\n",
       "      <td>23</td>\n",
       "      <td>59</td>\n",
       "      <td>80</td>\n",
       "    </tr>\n",
       "    <tr>\n",
       "      <th>Siya</th>\n",
       "      <td>7</td>\n",
       "      <td>68</td>\n",
       "      <td>11</td>\n",
       "    </tr>\n",
       "    <tr>\n",
       "      <th>kiya</th>\n",
       "      <td>26</td>\n",
       "      <td>49</td>\n",
       "      <td>99</td>\n",
       "    </tr>\n",
       "    <tr>\n",
       "      <th>Jiya</th>\n",
       "      <td>6</td>\n",
       "      <td>81</td>\n",
       "      <td>88</td>\n",
       "    </tr>\n",
       "  </tbody>\n",
       "</table>\n",
       "</div>"
      ],
      "text/plain": [
       "      Python  Data Science  DBMS\n",
       "Riya      23            59    80\n",
       "Siya       7            68    11\n",
       "kiya      26            49    99\n",
       "Jiya       6            81    88"
      ]
     },
     "execution_count": 40,
     "metadata": {},
     "output_type": "execute_result"
    }
   ],
   "source": [
    "import numpy as np\n",
    "import pandas as pd\n",
    "df=pd.DataFrame(np.random.randint(0,100,(4,3)),index=[\"Riya\",\"Siya\",\"kiya\",\"Jiya\"],columns=[\"Python\",\"Data Science\", \"DBMS\"])\n",
    "df "
   ]
  },
  {
   "cell_type": "code",
   "execution_count": null,
   "id": "252d642f",
   "metadata": {},
   "outputs": [],
   "source": []
  }
 ],
 "metadata": {
  "kernelspec": {
   "display_name": "Python 3 (ipykernel)",
   "language": "python",
   "name": "python3"
  },
  "language_info": {
   "codemirror_mode": {
    "name": "ipython",
    "version": 3
   },
   "file_extension": ".py",
   "mimetype": "text/x-python",
   "name": "python",
   "nbconvert_exporter": "python",
   "pygments_lexer": "ipython3",
   "version": "3.11.5"
  }
 },
 "nbformat": 4,
 "nbformat_minor": 5
}

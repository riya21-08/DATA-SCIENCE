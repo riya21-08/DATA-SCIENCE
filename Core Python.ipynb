{
 "cells": [
  {
   "cell_type": "code",
   "execution_count": 1,
   "id": "0c2a2ffd",
   "metadata": {},
   "outputs": [
    {
     "name": "stdout",
     "output_type": "stream",
     "text": [
      "Enter name to search :Diksha\n",
      "id is 12345 name is Diksha email id is Diksha r@nuv.ac.in\n",
      "Enter Id to search :69433\n",
      "Id is 69433 name is Heena email id is Heena@nuv.ac.in\n"
     ]
    }
   ],
   "source": [
    "data=[(12345,\"Diksha\",\"Diksha r@nuv.ac.in\"),\n",
    "       (45667,\"jiva\",\"jiva@nuv.ac.in\"),\n",
    "       (16789,'Ronit',\"Ronitd@nuv.ac.in\"),\n",
    "       (69433,\"Heena\",\"Heena@nuv.ac.in\")]\n",
    "\n",
    "def searchbyId(i):\n",
    "    for tup in data:    \n",
    "        if tup[0] == i:\n",
    "            sid =tup[0]\n",
    "            name= tup[1]\n",
    "            email =tup[2]\n",
    "            print(f'Id is {sid} name is {name} email id is {email}')\n",
    "\n",
    "def searchbyname(a):\n",
    "    for tup in data:\n",
    "        if tup[1] == a:\n",
    "            sid =tup[0]\n",
    "            name= tup[1]\n",
    "            email =tup[2]\n",
    "            print(f'id is {sid} name is {name} email id is {email}')\n",
    "            \n",
    "a = (input('Enter name to search :'))    \n",
    "searchbyname(a)\n",
    "            \n",
    "i = int(input(\"Enter Id to search :\"))\n",
    "searchbyId(i)"
   ]
  },
  {
   "cell_type": "code",
   "execution_count": 2,
   "id": "69dd227c",
   "metadata": {},
   "outputs": [
    {
     "name": "stdout",
     "output_type": "stream",
     "text": [
      "Enter id to search:12345\n",
      "12345           Diksha         Diksha r@nuv.ac.in      \n",
      "Enter Name to search:Diksha\n",
      "12345           Diksha         Diksha r@nuv.ac.in      \n"
     ]
    }
   ],
   "source": [
    "Mydict = {\"Enrollment id\" :[12345,45667,16789,69433],\n",
    "         \"Student Name\" :[\"Diksha\",\"jiva\",\"Ronit\",\"Heena\"],\n",
    "         \"Email id\":[\"Diksha r@nuv.ac.in\",\"jiva@nuv.ac.in\",\"Ronitd@nuv.ac.in\",\"Heena@nuv.ac.in\"]}\n",
    "          \n",
    "\n",
    "def search(value):\n",
    "    for dc in Mydict:\n",
    "        #Print(Mydict[dc])\n",
    "        #print(f'{value} {Mydict[dc]}')\n",
    "        if value in Mydict[dc]:\n",
    "            i=Mydict[dc].index(value)\n",
    "            enrolid= Mydict[\"Enrollment id\"][i]\n",
    "            sname= Mydict[\"Student Name\"][i]\n",
    "            emailid= Mydict[\"Email id\"][i]\n",
    "            print(f\"{enrolid:<16}{sname:<15}{emailid:<24}\")\n",
    "            \n",
    "            \n",
    "values=int(input(\"Enter id to search:\"))\n",
    "search(values)\n",
    "            \n",
    "values=(input(\"Enter Name to search:\"))\n",
    "search(values)     \n",
    "       "
   ]
  },
  {
   "cell_type": "code",
   "execution_count": 26,
   "id": "f6054bc3",
   "metadata": {},
   "outputs": [
    {
     "data": {
      "text/plain": [
       "{'Enroll': [12345, 45667, 16789, 69433],\n",
       " 'Name': ['Diksha', 'Jiva', 'Ronit', 'Heena'],\n",
       " 'Email': ['Diksha r@nuv.ac.in',\n",
       "  'Jiva@nuv.ac.in',\n",
       "  'Ronitd@nuv.ac.in',\n",
       "  'Heena@nuv.ac.in']}"
      ]
     },
     "execution_count": 26,
     "metadata": {},
     "output_type": "execute_result"
    }
   ],
   "source": [
    "data = [(12345, \"Diksha\", \"Diksha r@nuv.ac.in\"),\n",
    "        (45667, \"Jiva\", \"Jiva@nuv.ac.in\"),\n",
    "        (16789, \"Ronit\", \"Ronitd@nuv.ac.in\"),\n",
    "        (69433, \"Heena\", \"Heena@nuv.ac.in\")]\n",
    "\n",
    "Mydict = {\"Enroll\":[],\"Name\":[],\"Email\":[]}\n",
    "          \n",
    "for d in data:\n",
    "    Mydict[\"Enroll\"].append(d[0])\n",
    "    Mydict[\"Name\"].append(d[1])\n",
    "    Mydict[\"Email\"].append(d[2])\n",
    "          \n",
    "Mydict         "
   ]
  },
  {
   "cell_type": "code",
   "execution_count": 38,
   "id": "e4bb4139",
   "metadata": {},
   "outputs": [
    {
     "data": {
      "text/plain": [
       "213"
      ]
     },
     "execution_count": 38,
     "metadata": {},
     "output_type": "execute_result"
    }
   ],
   "source": [
    "import json \n",
    "fw=open(\"students.Json\",\"w\") \n",
    "jsndata = json.dumps(Mydict)#dumps converts dictionary to Json \n",
    "fw.write(jsndata)\n"
   ]
  },
  {
   "cell_type": "code",
   "execution_count": 39,
   "id": "a2df50d9",
   "metadata": {},
   "outputs": [
    {
     "name": "stdout",
     "output_type": "stream",
     "text": [
      "Enter enroll no1235\n"
     ]
    }
   ],
   "source": [
    "import json\n",
    "\n",
    "def add_student(enrollment_no):\n",
    "    fw=open(\"students.Json\",\"a\") \n",
    "    js=json.dumps(Mydict[\"Enroll\"].append(enrollment_no))\n",
    "    fw.write(js)\n",
    "\n",
    "\n",
    "enrol=input(\"Enter enroll no\") \n",
    "add_student(enrol)\n",
    "        \n",
    "\n",
    "    \n",
    "        "
   ]
  }
 ],
 "metadata": {
  "kernelspec": {
   "display_name": "Python 3 (ipykernel)",
   "language": "python",
   "name": "python3"
  },
  "language_info": {
   "codemirror_mode": {
    "name": "ipython",
    "version": 3
   },
   "file_extension": ".py",
   "mimetype": "text/x-python",
   "name": "python",
   "nbconvert_exporter": "python",
   "pygments_lexer": "ipython3",
   "version": "3.11.5"
  }
 },
 "nbformat": 4,
 "nbformat_minor": 5
}
